{
 "cells": [
  {
   "cell_type": "code",
   "execution_count": 1,
   "id": "d8a59de5-2118-4dfa-9dd7-7295849fc362",
   "metadata": {},
   "outputs": [],
   "source": [
    "import pandas as pd"
   ]
  },
  {
   "cell_type": "code",
   "execution_count": 60,
   "id": "3b2ecbb4-46ce-40eb-8f6f-70e93c54e29e",
   "metadata": {},
   "outputs": [],
   "source": [
    "original_data = pd.read_csv('dissecting-bias-master-data/data/data_new.csv').rename(columns={'gagne_sum_t':'Chronic_illnesses'})\n",
    "original_data.columns = [a.capitalize() for a in original_data.columns]\n",
    "original_data['Sex'] = original_data['Dem_female'].map(lambda x:'Female' if x == 1 else 'Male')\n",
    "original_data['Age'] = 'Over 65'\n",
    "original_data.loc[(original_data['Dem_age_band_55-64_tm1'] == 1) | (original_data['Dem_age_band_45-54_tm1'] == 1), 'Age'] = '45-64'\n",
    "original_data.loc[(original_data['Dem_age_band_18-24_tm1'] == 1) | \n",
    "                  (original_data['Dem_age_band_25-34_tm1'] == 1) | \n",
    "                (original_data['Dem_age_band_35-44_tm1'] == 1), 'Age'] = '18-44'\n",
    "cols_to_keep = ['Chronic_illnesses','Race','Sex','Age'] + [a for a in original_data if a.endswith('elixhauser_tm1')][:10]\n",
    "original_data = original_data[cols_to_keep]\n",
    "original_data = original_data.sample(frac=1, random_state=42)\n",
    "original_data.iloc[:40000].to_csv('train_data.csv', index=False)\n",
    "original_data.iloc[40000:].to_csv('test_data.csv', index=False)\n"
   ]
  },
  {
   "cell_type": "code",
   "execution_count": null,
   "id": "40eb9b7c-5987-4966-8ba0-5ca372560553",
   "metadata": {},
   "outputs": [],
   "source": []
  }
 ],
 "metadata": {
  "kernelspec": {
   "display_name": "Python 3 (ipykernel)",
   "language": "python",
   "name": "python3"
  },
  "language_info": {
   "codemirror_mode": {
    "name": "ipython",
    "version": 3
   },
   "file_extension": ".py",
   "mimetype": "text/x-python",
   "name": "python",
   "nbconvert_exporter": "python",
   "pygments_lexer": "ipython3",
   "version": "3.9.10"
  }
 },
 "nbformat": 4,
 "nbformat_minor": 5
}
